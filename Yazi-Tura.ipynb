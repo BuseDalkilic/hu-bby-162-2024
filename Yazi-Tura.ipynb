{
  "nbformat": 4,
  "nbformat_minor": 0,
  "metadata": {
    "colab": {
      "provenance": [],
      "authorship_tag": "ABX9TyNYPDTjLNEdyjqSNEJ629NT",
      "include_colab_link": true
    },
    "kernelspec": {
      "name": "python3",
      "display_name": "Python 3"
    },
    "language_info": {
      "name": "python"
    }
  },
  "cells": [
    {
      "cell_type": "markdown",
      "metadata": {
        "id": "view-in-github",
        "colab_type": "text"
      },
      "source": [
        "<a href=\"https://colab.research.google.com/github/BuseDalkilic/hu-bby-162-2024/blob/main/Yazi-Tura.ipynb\" target=\"_parent\"><img src=\"https://colab.research.google.com/assets/colab-badge.svg\" alt=\"Open In Colab\"/></a>"
      ]
    },
    {
      "cell_type": "code",
      "source": [
        "import random"
      ],
      "metadata": {
        "id": "HbpeHw16-Yfg"
      },
      "execution_count": 31,
      "outputs": []
    },
    {
      "cell_type": "code",
      "execution_count": 43,
      "metadata": {
        "colab": {
          "base_uri": "https://localhost:8080/"
        },
        "id": "ryu12g7w-IuL",
        "outputId": "39f93186-af97-4030-9148-d6fd6ea52290"
      },
      "outputs": [
        {
          "output_type": "stream",
          "name": "stdout",
          "text": [
            "Tura geldi...\n"
          ]
        }
      ],
      "source": [
        "# prompt: ıf yazi_tura ==1:\n",
        "# print (\"Yazı geldi...\")\n",
        "# else:\n",
        "# print (\"Tura geldi...\")\n",
        "# print ()\n",
        "import random\n",
        "\n",
        "yazi_tura = random.randint(0, 1)\n",
        "\n",
        "if yazi_tura == 1:\n",
        "  print(\"Yazı geldi...\")\n",
        "else:\n",
        "  print(\"Tura geldi...\")\n",
        "\n"
      ]
    },
    {
      "cell_type": "code",
      "source": [],
      "metadata": {
        "id": "Pq0E2EreB2-O"
      },
      "execution_count": null,
      "outputs": []
    }
  ]
}