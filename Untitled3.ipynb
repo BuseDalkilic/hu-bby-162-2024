{
  "nbformat": 4,
  "nbformat_minor": 0,
  "metadata": {
    "colab": {
      "provenance": [],
      "authorship_tag": "ABX9TyMeoipcnVN93AJaPnptoz0r",
      "include_colab_link": true
    },
    "kernelspec": {
      "name": "python3",
      "display_name": "Python 3"
    },
    "language_info": {
      "name": "python"
    }
  },
  "cells": [
    {
      "cell_type": "markdown",
      "metadata": {
        "id": "view-in-github",
        "colab_type": "text"
      },
      "source": [
        "<a href=\"https://colab.research.google.com/github/BuseDalkilic/hu-bby-162-2024/blob/main/Untitled3.ipynb\" target=\"_parent\"><img src=\"https://colab.research.google.com/assets/colab-badge.svg\" alt=\"Open In Colab\"/></a>"
      ]
    },
    {
      "cell_type": "code",
      "execution_count": 42,
      "metadata": {
        "colab": {
          "base_uri": "https://localhost:8080/"
        },
        "id": "ebgPMr9ObGNo",
        "outputId": "0343ea90-30e8-4e94-9e8d-09e0262e02c6"
      },
      "outputs": [
        {
          "output_type": "stream",
          "name": "stdout",
          "text": [
            "{'Beşiktaş': 'Kulüp', 'Stadyum': 'Alan', 'Defans': 'Savunma', 'Averaj': 'Sayı Farkı', 'Kale': 'Korunmalı Yer', 'Şenol Güneş': 'Baba', 'Yetenek': 'Semih Kılıçsoy', 'Feda': 'Kampanya', 'Gol': 'Puan', 'Başkan': 'Hasan Arat', 'Efsane': 'Ricardo Quaresma', 'Fikstür': 'Çizelge'}\n"
          ]
        }
      ],
      "source": [
        "futbolterimleri = {\"Beşiktaş\": \"Kulüp\",\"Stadyum\" :\"Alan\",\"Defans\":\"Savunma\", \"Averaj\": \"Sayı Farkı\", \"Kale\":\"Korunmalı Yer\", \"Şenol Güneş\":\"Baba\",\"Yetenek\":\"Semih Kılıçsoy\",\"Feda\":\"Kampanya\",\"Gol\":\"Puan\",\"Başkan\":\"Hasan Arat\",\"Efsane\":\"Ricardo Quaresma\",\"Fikstür\": \"Çizelge\"}\n",
        "print(futbolterimleri)\n"
      ]
    },
    {
      "cell_type": "code",
      "source": [
        "yenikelime = input(\"Yeni bir kelime ekleyiniz: \")\n",
        "anlamı= input (\"Yeni bir anlam yazınız: \")\n",
        "futbolterimleri[yenikelime] = anlamı\n",
        "print(futbolterimleri)"
      ],
      "metadata": {
        "colab": {
          "base_uri": "https://localhost:8080/"
        },
        "id": "UV4NvmWUh2Id",
        "outputId": "11466afb-1fc5-433e-99c6-4731a65b526a"
      },
      "execution_count": 43,
      "outputs": [
        {
          "output_type": "stream",
          "name": "stdout",
          "text": [
            "Yeni bir kelime ekleyiniz: Taraftar\n",
            "Yeni bir anlam yazınız: Destekçi\n",
            "{'Beşiktaş': 'Kulüp', 'Stadyum': 'Alan', 'Defans': 'Savunma', 'Averaj': 'Sayı Farkı', 'Kale': 'Korunmalı Yer', 'Şenol Güneş': 'Baba', 'Yetenek': 'Semih Kılıçsoy', 'Feda': 'Kampanya', 'Gol': 'Puan', 'Başkan': 'Hasan Arat', 'Efsane': 'Ricardo Quaresma', 'Fikstür': 'Çizelge', 'Taraftar': 'Destekçi'}\n"
          ]
        }
      ]
    },
    {
      "cell_type": "code",
      "source": [
        "print(futbolterimleri)\n",
        "silinecek = input(\"Silmek istediğiniz kelimeyi giriniz:\")\n",
        "print(\"Silinecek kelime:\" +futbolterimleri[silinecek])\n",
        "del futbolterimleri,[silinecek]\n",
        "print(\"Silme işlemi tamamlandı\")\n",
        "print(futbolterimleri)"
      ],
      "metadata": {
        "colab": {
          "base_uri": "https://localhost:8080/"
        },
        "id": "0I04iNgmjDPN",
        "outputId": "c7e802ee-52a0-439b-d690-77cf1eb5fd23"
      },
      "execution_count": 28,
      "outputs": [
        {
          "output_type": "stream",
          "name": "stdout",
          "text": [
            "{'Beşiktaş': 'Kulüp', 'Stadyum': 'Alan', 'Defans': 'Savunma', 'Averaj': 'Sayı Farkı', 'Kale': 'Korunmalı Yer', 'Şenol Güneş': 'Baba', 'Yetenek': 'Semih Kılıçsoy', 'Feda': 'Kampanya', 'Gol': 'Puan', 'Başkan': 'Hasan Arat', 'Efsane': 'Ricardo Quaresma', 'Fikstür': 'Çizelge', 'Taraftar': 'Destekçi'}\n",
            "Silmek istediğiniz kelimeyi giriniz:Fikstür\n",
            "Silinecek kelime:Çizelge\n",
            "Silme işlemi tamamlandı\n",
            "{'Beşiktaş': 'Aşk', 'Stadyum': 'Alan', 'Averaj': 'Sayı Farkı', 'Kale': 'Korunmalı Yer', 'Şenol Güneş': 'Baba', 'Yetenek': 'Semih Kılıçsoy', 'Feda': 'Kampanya', 'Gol': 'Puan', 'Başkan': 'Hasan Arat', 'Efsane': 'Ricardo Quaresma', 'Taraftar': 'Destekçi'}\n"
          ]
        }
      ]
    },
    {
      "cell_type": "code",
      "source": [
        "print(futbolterimleri)\n",
        "guncellenecek= input(\"Güncellemek istediğiniz kelimeyi giriniz: \")\n",
        "print(\"Güncellenecek kelime: \" + futbolterimleri[guncellenecek])\n",
        "guncelkelime = input(\"Güncel anlamını giriniz: \")\n",
        "futbolterimleri[guncellenecek] = guncelkelime\n",
        "print(\"Güncelleme bitmiştir\")\n",
        "print(futbolterimleri)"
      ],
      "metadata": {
        "colab": {
          "base_uri": "https://localhost:8080/"
        },
        "id": "Wn4ydCBmkNao",
        "outputId": "d5ad8d14-d451-4f33-82a7-57d86e89011f"
      },
      "execution_count": 44,
      "outputs": [
        {
          "output_type": "stream",
          "name": "stdout",
          "text": [
            "{'Beşiktaş': 'Kulüp', 'Stadyum': 'Alan', 'Defans': 'Savunma', 'Averaj': 'Sayı Farkı', 'Kale': 'Korunmalı Yer', 'Şenol Güneş': 'Baba', 'Yetenek': 'Semih Kılıçsoy', 'Feda': 'Kampanya', 'Gol': 'Puan', 'Başkan': 'Hasan Arat', 'Efsane': 'Ricardo Quaresma', 'Fikstür': 'Çizelge', 'Taraftar': 'Destekçi'}\n",
            "Güncellemek istediğiniz kelimeyi giriniz: Beşiktaş\n",
            "Güncellenecek kelime: Kulüp\n",
            "Güncel anlamını giriniz: Aşk\n",
            "Güncelleme bitmiştir\n",
            "{'Beşiktaş': 'Aşk', 'Stadyum': 'Alan', 'Defans': 'Savunma', 'Averaj': 'Sayı Farkı', 'Kale': 'Korunmalı Yer', 'Şenol Güneş': 'Baba', 'Yetenek': 'Semih Kılıçsoy', 'Feda': 'Kampanya', 'Gol': 'Puan', 'Başkan': 'Hasan Arat', 'Efsane': 'Ricardo Quaresma', 'Fikstür': 'Çizelge', 'Taraftar': 'Destekçi'}\n"
          ]
        }
      ]
    }
  ]
}