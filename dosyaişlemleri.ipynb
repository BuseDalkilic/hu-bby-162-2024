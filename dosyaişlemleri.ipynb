{
  "nbformat": 4,
  "nbformat_minor": 0,
  "metadata": {
    "colab": {
      "provenance": [],
      "authorship_tag": "ABX9TyODJ4TYoHg6mVPO4O258+zG",
      "include_colab_link": true
    },
    "kernelspec": {
      "name": "python3",
      "display_name": "Python 3"
    },
    "language_info": {
      "name": "python"
    }
  },
  "cells": [
    {
      "cell_type": "markdown",
      "metadata": {
        "id": "view-in-github",
        "colab_type": "text"
      },
      "source": [
        "<a href=\"https://colab.research.google.com/github/BuseDalkilic/hu-bby-162-2024/blob/main/dosyai%C5%9Flemleri.ipynb\" target=\"_parent\"><img src=\"https://colab.research.google.com/assets/colab-badge.svg\" alt=\"Open In Colab\"/></a>"
      ]
    },
    {
      "cell_type": "code",
      "execution_count": null,
      "metadata": {
        "id": "5LbWjjDNk2Pg"
      },
      "outputs": [],
      "source": [
        "dosya = \"/media/dosya\""
      ]
    },
    {
      "cell_type": "code",
      "source": [
        "f = open(dosya, 'w')\n",
        "f.close()"
      ],
      "metadata": {
        "id": "T3Znrd4Vp2wj"
      },
      "execution_count": null,
      "outputs": []
    },
    {
      "cell_type": "code",
      "source": [
        "f = open(dosya, \"r\")\n",
        "\n",
        "for line in f.readlines():\n",
        "  f.close()\n"
      ],
      "metadata": {
        "id": "yTx5iMJbq1IE"
      },
      "execution_count": null,
      "outputs": []
    },
    {
      "cell_type": "code",
      "source": [
        "adSoyad = input(\"Adınızı soyadınızı giriniz: \")\n",
        "ePosta = input(\"E-postanızı giriniz: \")\n",
        "\n",
        "dosyaYaz = open(dosya, \"a\")\n",
        "dosyaYaz.write(adSoyad+\"-\"+ePosta+\"/n\")\n",
        "dosyaYaz.close()\n",
        "\n"
      ],
      "metadata": {
        "colab": {
          "base_uri": "https://localhost:8080/"
        },
        "id": "qBcILlLWrd6S",
        "outputId": "3494aeee-63ec-448d-ee8c-68f312afdedb"
      },
      "execution_count": null,
      "outputs": [
        {
          "name": "stdout",
          "output_type": "stream",
          "text": [
            "Adınızı soyadınızı giriniz: Buse Dalkılıç\n",
            "E-postanızı giriniz: buse_dalkilic@hotmail.com\n"
          ]
        }
      ]
    },
    {
      "cell_type": "code",
      "source": [
        "dosyaOku = open(dosya, \"r\")\n",
        "\n",
        "for satir in dosyaOku.readlines():\n",
        "  print(satir)\n",
        "\n",
        "dosyaOku.close()\n"
      ],
      "metadata": {
        "colab": {
          "base_uri": "https://localhost:8080/"
        },
        "id": "kqsoIJcmsG_L",
        "outputId": "98712762-f66a-4b96-e6d0-76aa735b8e4c"
      },
      "execution_count": null,
      "outputs": [
        {
          "output_type": "stream",
          "name": "stdout",
          "text": [
            "Buse Dalkılıç-buse_dalkilic@hotmail.com/n\n"
          ]
        }
      ]
    }
  ]
}