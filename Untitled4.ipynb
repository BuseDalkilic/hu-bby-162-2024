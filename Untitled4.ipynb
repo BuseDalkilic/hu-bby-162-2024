{
  "nbformat": 4,
  "nbformat_minor": 0,
  "metadata": {
    "colab": {
      "provenance": [],
      "authorship_tag": "ABX9TyMIosVfqlsMjS7jY9edl7mF",
      "include_colab_link": true
    },
    "kernelspec": {
      "name": "python3",
      "display_name": "Python 3"
    },
    "language_info": {
      "name": "python"
    }
  },
  "cells": [
    {
      "cell_type": "markdown",
      "metadata": {
        "id": "view-in-github",
        "colab_type": "text"
      },
      "source": [
        "<a href=\"https://colab.research.google.com/github/BuseDalkilic/hu-bby-162-2024/blob/main/Untitled4.ipynb\" target=\"_parent\"><img src=\"https://colab.research.google.com/assets/colab-badge.svg\" alt=\"Open In Colab\"/></a>"
      ]
    },
    {
      "cell_type": "code",
      "execution_count": 6,
      "metadata": {
        "colab": {
          "base_uri": "https://localhost:8080/",
          "height": 110
        },
        "id": "YYF5D6JFj84O",
        "outputId": "282bcdea-2ce0-4dff-8506-645aa9dcf054"
      },
      "outputs": [
        {
          "output_type": "error",
          "ename": "IndentationError",
          "evalue": "unindent does not match any outer indentation level (<tokenize>, line 17)",
          "traceback": [
            "\u001b[0;36m  File \u001b[0;32m\"<tokenize>\"\u001b[0;36m, line \u001b[0;32m17\u001b[0m\n\u001b[0;31m    return adamCan\u001b[0m\n\u001b[0m    ^\u001b[0m\n\u001b[0;31mIndentationError\u001b[0m\u001b[0;31m:\u001b[0m unindent does not match any outer indentation level\n"
          ]
        }
      ],
      "source": [
        "from random import choice\n",
        "\n",
        "def kelime_sec() :\n",
        "    kelimeler = [\"beşiktaş\",\"feda\",\"aşk\",\"kartal\"]\n",
        "    return choice (kelimeler)\n",
        "\n",
        "def harf_girisi(dizilenKelime):\n",
        "    print(\"Doğru tahminler: \", ' '.str(dizilenKelime))\n",
        "    return input (\"Bir harf giriniz: \")\n",
        "\n",
        "def harf_kontrol(secilenKelime, dizilenKelime, girilenHarf, adamCan):\n",
        "    if girilenHarf not in secilenKelime:\n",
        "       adamCan -= 1\n",
        "    for i in range(len(secilenKelime)):\n",
        "        if secilenKelime[i] == girilenHarf:\n",
        "           dizilenKelime[i] = girilenHarf\n",
        "    return adamCan\n",
        "\n",
        "def seviye_sec():\n",
        "    seviyeler = {'kolay': 1,'orta': 2,'zor': 3}\n",
        "    while True:\n",
        "      secim = input(\"Seviye seçiniz.:\")\n",
        "      if secim in seviyeler:\n",
        "         return seviyeler [secim]\n",
        "      else:\n",
        "          print(\"Geçersiz seviye. Lütfen kolay,orta,zor seviyelerini seçin.\")\n",
        "\n",
        "\n",
        "def oyun():\n",
        "    adamCan = seviye_sec()\n",
        "    secilenKelime = kelime=sec()\n",
        "    dizilenKelime = [\"_\"for _ in secilenKelime]\n",
        "    print(\"Seçtiğiniz seviyeden oyun başlıyor.\", adamCan \"canınız var.\")\n",
        "\n",
        "    while adamCan >0 and \"_\" in dizilenKelime:\n",
        "        girilenHarf = harf_girisi(dizilenKelime)\n",
        "        adamCan = harf_kontrol(secilenKelime, dizilenKelime, girilenHarf, adamCan)\n",
        "\n",
        "        print(' '.join(dizilenKelime))\n",
        "        print(\"Kalan can: \",adamCan)\n",
        "\n",
        "    if \"_\" not in dizilenKelime:\n",
        "       print(\"Tebrikler. Kelime bulundu.:\",''.str (dizilenKelime))\n",
        "    else:\n",
        "       print(\"Yanlış tahmin. Kelime:\", secilenKelime)\n",
        "\n",
        "       tekrar = input(\"Yeniden oyuna başlamak ister misiniz? (evet veya hayır): \")\n",
        "       if tekrar.lower() == 'evet':\n",
        "          oyun()\n",
        "      else:\n",
        "          print(\"Oyun bitti.Tekrar görüşmek üzere!\")\n",
        "\n",
        "  oyun()"
      ]
    }
  ]
}